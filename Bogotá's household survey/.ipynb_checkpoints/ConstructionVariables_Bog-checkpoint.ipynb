{
 "cells": [
  {
   "cell_type": "markdown",
   "id": "f7be6ca2",
   "metadata": {},
   "source": [
    "# Analysis of Bogotá's household data"
   ]
  },
  {
   "cell_type": "code",
   "execution_count": 1,
   "id": "851bd88b",
   "metadata": {},
   "outputs": [],
   "source": [
    "import numpy as np\n",
    "import matplotlib.pyplot as plt\n",
    "import pandas as pd\n",
    "import seaborn as sns\n",
    "\n",
    "%matplotlib inline"
   ]
  },
  {
   "cell_type": "markdown",
   "id": "86959e40",
   "metadata": {},
   "source": [
    "## Catastro"
   ]
  },
  {
   "cell_type": "code",
   "execution_count": 2,
   "id": "5c43ec2c",
   "metadata": {},
   "outputs": [
    {
     "name": "stderr",
     "output_type": "stream",
     "text": [
      "C:\\Users\\mdomi\\anaconda3\\lib\\site-packages\\IPython\\core\\interactiveshell.py:3444: DtypeWarning: Columns (19) have mixed types.Specify dtype option on import or set low_memory=False.\n",
      "  exec(code_obj, self.user_global_ns, self.user_ns)\n"
     ]
    }
   ],
   "source": [
    "df_catastro = pd.read_csv('Info_catastro.csv', low_memory = False)\n",
    "df_predios = pd.read_table('predios.txt', on_bad_lines='warn', delimiter=';')"
   ]
  },
  {
   "cell_type": "code",
   "execution_count": 3,
   "id": "073130cc",
   "metadata": {},
   "outputs": [],
   "source": [
    "df_catastro['COD'] = df_catastro['CONCODIGO'].apply(lambda df: df[:12])\n",
    "df_predios['COD'] = df_predios.apply(lambda df:  f'{df.PreCBarrio:06}' + f'{df.PreCManz:03}' + f'{df.PreCPredio:03}', axis =1)\n",
    "df_predios = df_predios[(df_predios['PreVetustz']>1800)&(df_predios['PreCUso'] == 1)].iloc[:,[21, -1]]\n",
    "df_predios['AGE_RANK'] = df_predios['PreVetustz'].apply(lambda df: 1 if (2022 - df)<10\n",
    "                                                        else 2 if ((2022-df)<20) & ((2022-df)>10) \n",
    "                                                        else 3 if ((2022-df)<30) & ((2022-df)>20) \n",
    "                                                        else 4 if ((2022-df)<40) & ((2022-df)>30) \n",
    "                                                        else 5 if ((2022-df)<50) & ((2022-df)>40)\n",
    "                                                        else 6 if ((2022-df)<60) & ((2022-df)>50)\n",
    "                                                        else 7 if ((2022-df)<70) & ((2022-df)>60)\n",
    "                                                        else 8 if ((2022-df)<80) & ((2022-df)>70)\n",
    "                                                        else 9\n",
    "                                                       )\n",
    "df_predios = df_predios.iloc[:,-2:]\n",
    "df_catastro = df_catastro.set_index('COD').iloc[:,[2, 4]]"
   ]
  },
  {
   "cell_type": "code",
   "execution_count": 16,
   "id": "9267aee4",
   "metadata": {},
   "outputs": [],
   "source": [
    "houses = df_predios.merge(df_catastro, left_on = 'COD', right_on = 'COD')\n",
    "houses = houses.groupby('COD').mean()\n",
    "houses['BASEMENT'] = houses.apply(lambda df : 1 if df.CONNSOTANO > 0 else 0, axis = 1)\n",
    "houses = houses.iloc[:,[0,-1]]"
   ]
  },
  {
   "cell_type": "code",
   "execution_count": 19,
   "id": "6a40f500",
   "metadata": {},
   "outputs": [],
   "source": [
    "houses.to_csv('construction_variables_houses_Bogotá.csv')"
   ]
  },
  {
   "cell_type": "code",
   "execution_count": null,
   "id": "66c06b20",
   "metadata": {},
   "outputs": [],
   "source": []
  }
 ],
 "metadata": {
  "kernelspec": {
   "display_name": "Python 3 (ipykernel)",
   "language": "python",
   "name": "python3"
  },
  "language_info": {
   "codemirror_mode": {
    "name": "ipython",
    "version": 3
   },
   "file_extension": ".py",
   "mimetype": "text/x-python",
   "name": "python",
   "nbconvert_exporter": "python",
   "pygments_lexer": "ipython3",
   "version": "3.7.11"
  }
 },
 "nbformat": 4,
 "nbformat_minor": 5
}
