{
 "cells": [
  {
   "cell_type": "markdown",
   "id": "b9537bc9",
   "metadata": {},
   "source": [
    "# Analysis of Bogotá's household data"
   ]
  },
  {
   "cell_type": "code",
   "execution_count": 1,
   "id": "3fcffbf3",
   "metadata": {},
   "outputs": [],
   "source": [
    "import numpy as np\n",
    "import matplotlib.pyplot as plt\n",
    "import pandas as pd\n",
    "import seaborn as sns\n",
    "\n",
    "%matplotlib inline"
   ]
  },
  {
   "cell_type": "markdown",
   "id": "8f5b3959",
   "metadata": {},
   "source": [
    "## Catastro"
   ]
  },
  {
   "cell_type": "code",
   "execution_count": 2,
   "id": "3b5cf4e2",
   "metadata": {},
   "outputs": [
    {
     "name": "stderr",
     "output_type": "stream",
     "text": [
      "C:\\Users\\mdomi\\anaconda3\\lib\\site-packages\\IPython\\core\\interactiveshell.py:3444: DtypeWarning: Columns (19) have mixed types.Specify dtype option on import or set low_memory=False.\n",
      "  exec(code_obj, self.user_global_ns, self.user_ns)\n"
     ]
    }
   ],
   "source": [
    "df_catastro = pd.read_csv('Info_catastro.csv', low_memory = False)\n",
    "df_predios = pd.read_table('predios.txt', on_bad_lines='warn', delimiter=';')"
   ]
  },
  {
   "cell_type": "code",
   "execution_count": 3,
   "id": "e86cab1d",
   "metadata": {},
   "outputs": [],
   "source": [
    "df_catastro['Codigo'] = df_catastro['CONCODIGO'].apply(lambda df: df[:12])\n",
    "df_predios['Codigo'] = df_predios.apply(lambda df:  f'{df.PreCBarrio:06}' + f'{df.PreCManz:03}' + f'{df.PreCPredio:03}', axis =1)\n",
    "df_predios = df_predios[(df_predios['PreVetustz']>1800)&(df_predios['PreCUso'] == 1)].iloc[:,[21, -1]]\n",
    "df_predios['AGE_RANK'] = df_predios['PreVetustz'].apply(lambda df: 1 if (2022 - df)<10\n",
    "                                                        else 2 if ((2022-df)<20) & ((2022-df)>10) \n",
    "                                                        else 3 if ((2022-df)<30) & ((2022-df)>20) \n",
    "                                                        else 4 if ((2022-df)<40) & ((2022-df)>30) \n",
    "                                                        else 5 if ((2022-df)<50) & ((2022-df)>40)\n",
    "                                                        else 6 if ((2022-df)<60) & ((2022-df)>50)\n",
    "                                                        else 7 if ((2022-df)<70) & ((2022-df)>60)\n",
    "                                                        else 8 if ((2022-df)<80) & ((2022-df)>70)\n",
    "                                                        else 9\n",
    "                                                       )\n",
    "df_predios = df_predios.iloc[:,-2:]\n",
    "df_catastro = df_catastro.set_index('Codigo').iloc[:,[2, 4]]"
   ]
  },
  {
   "cell_type": "code",
   "execution_count": 4,
   "id": "9ec43d5f",
   "metadata": {},
   "outputs": [
    {
     "data": {
      "text/html": [
       "<div>\n",
       "<style scoped>\n",
       "    .dataframe tbody tr th:only-of-type {\n",
       "        vertical-align: middle;\n",
       "    }\n",
       "\n",
       "    .dataframe tbody tr th {\n",
       "        vertical-align: top;\n",
       "    }\n",
       "\n",
       "    .dataframe thead th {\n",
       "        text-align: right;\n",
       "    }\n",
       "</style>\n",
       "<table border=\"1\" class=\"dataframe\">\n",
       "  <thead>\n",
       "    <tr style=\"text-align: right;\">\n",
       "      <th></th>\n",
       "      <th>COD</th>\n",
       "      <th>BASEMENT</th>\n",
       "      <th>AGE_RANK</th>\n",
       "    </tr>\n",
       "  </thead>\n",
       "  <tbody>\n",
       "    <tr>\n",
       "      <th>0</th>\n",
       "      <td>A001101002001</td>\n",
       "      <td>0</td>\n",
       "      <td>5</td>\n",
       "    </tr>\n",
       "    <tr>\n",
       "      <th>1</th>\n",
       "      <td>A001101002002</td>\n",
       "      <td>0</td>\n",
       "      <td>9</td>\n",
       "    </tr>\n",
       "    <tr>\n",
       "      <th>2</th>\n",
       "      <td>A001101002003</td>\n",
       "      <td>0</td>\n",
       "      <td>5</td>\n",
       "    </tr>\n",
       "    <tr>\n",
       "      <th>3</th>\n",
       "      <td>A001101002004</td>\n",
       "      <td>0</td>\n",
       "      <td>3</td>\n",
       "    </tr>\n",
       "    <tr>\n",
       "      <th>4</th>\n",
       "      <td>A001101002005</td>\n",
       "      <td>0</td>\n",
       "      <td>5</td>\n",
       "    </tr>\n",
       "    <tr>\n",
       "      <th>...</th>\n",
       "      <td>...</td>\n",
       "      <td>...</td>\n",
       "      <td>...</td>\n",
       "    </tr>\n",
       "    <tr>\n",
       "      <th>725936</th>\n",
       "      <td>A209106005023</td>\n",
       "      <td>0</td>\n",
       "      <td>3</td>\n",
       "    </tr>\n",
       "    <tr>\n",
       "      <th>725937</th>\n",
       "      <td>A209106005024</td>\n",
       "      <td>0</td>\n",
       "      <td>4</td>\n",
       "    </tr>\n",
       "    <tr>\n",
       "      <th>725938</th>\n",
       "      <td>A209106005025</td>\n",
       "      <td>0</td>\n",
       "      <td>4</td>\n",
       "    </tr>\n",
       "    <tr>\n",
       "      <th>725939</th>\n",
       "      <td>A209106006001</td>\n",
       "      <td>0</td>\n",
       "      <td>4</td>\n",
       "    </tr>\n",
       "    <tr>\n",
       "      <th>725940</th>\n",
       "      <td>A209106006002</td>\n",
       "      <td>0</td>\n",
       "      <td>3</td>\n",
       "    </tr>\n",
       "  </tbody>\n",
       "</table>\n",
       "<p>725941 rows × 3 columns</p>\n",
       "</div>"
      ],
      "text/plain": [
       "                  COD  BASEMENT  AGE_RANK\n",
       "0       A001101002001         0         5\n",
       "1       A001101002002         0         9\n",
       "2       A001101002003         0         5\n",
       "3       A001101002004         0         3\n",
       "4       A001101002005         0         5\n",
       "...               ...       ...       ...\n",
       "725936  A209106005023         0         3\n",
       "725937  A209106005024         0         4\n",
       "725938  A209106005025         0         4\n",
       "725939  A209106006001         0         4\n",
       "725940  A209106006002         0         3\n",
       "\n",
       "[725941 rows x 3 columns]"
      ]
     },
     "execution_count": 4,
     "metadata": {},
     "output_type": "execute_result"
    }
   ],
   "source": [
    "houses = df_predios.merge(df_catastro, left_on = 'Codigo', right_on = 'Codigo')\n",
    "houses = houses.groupby('Codigo').max().reset_index()\n",
    "houses['BASEMENT'] = houses.apply(lambda df : 1 if df.CONNSOTANO > 0 else 0, axis = 1)\n",
    "houses['COD'] = houses.Codigo.apply(lambda df : 'A' + df)\n",
    "houses = houses.iloc[:,[5,4,1]]\n",
    "houses"
   ]
  },
  {
   "cell_type": "code",
   "execution_count": 5,
   "id": "37c3194a",
   "metadata": {},
   "outputs": [],
   "source": [
    "houses.to_csv('construction_vars_houses_Bogotá.csv')"
   ]
  }
 ],
 "metadata": {
  "kernelspec": {
   "display_name": "Python 3 (ipykernel)",
   "language": "python",
   "name": "python3"
  },
  "language_info": {
   "codemirror_mode": {
    "name": "ipython",
    "version": 3
   },
   "file_extension": ".py",
   "mimetype": "text/x-python",
   "name": "python",
   "nbconvert_exporter": "python",
   "pygments_lexer": "ipython3",
   "version": "3.7.11"
  }
 },
 "nbformat": 4,
 "nbformat_minor": 5
}
